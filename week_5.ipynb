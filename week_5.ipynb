{
 "cells": [
  {
   "cell_type": "markdown",
   "metadata": {},
   "source": [
    "## Week 5 Grinstead, Snell"
   ]
  },
  {
   "cell_type": "markdown",
   "metadata": {},
   "source": [
    "## Chapter 1"
   ]
  },
  {
   "cell_type": "code",
   "execution_count": 1,
   "metadata": {},
   "outputs": [],
   "source": [
    "import random\n",
    "\n",
    "random.seed(42)\n"
   ]
  },
  {
   "cell_type": "code",
   "execution_count": 2,
   "metadata": {},
   "outputs": [
    {
     "name": "stdout",
     "output_type": "stream",
     "text": [
      "Heads: 499579\n",
      "Tails: 499579\n",
      "0.0004210000000000047\n",
      "-0.0004210000000000047\n"
     ]
    }
   ],
   "source": [
    "# 1\n",
    "\n",
    "\n",
    "def coin_tosses_1(n):\n",
    "    x = [random.randint(0, 1) for x in range(n)]\n",
    "\n",
    "    heads = x.count(1)\n",
    "    tails = x.count(0)\n",
    "    print(f\"Heads: {tails}\")\n",
    "    print(f\"Tails: {tails}\")\n",
    "\n",
    "    h_prop = heads / len(x)\n",
    "    t_prop = tails / len(x)\n",
    "\n",
    "    print(h_prop - 0.5)\n",
    "    print(t_prop - 0.5)\n",
    "\n",
    "    return None\n",
    "\n",
    "\n",
    "coin_tosses_1(10**6)"
   ]
  },
  {
   "cell_type": "code",
   "execution_count": 3,
   "metadata": {},
   "outputs": [
    {
     "name": "stdout",
     "output_type": "stream",
     "text": [
      "126\n"
     ]
    }
   ],
   "source": [
    "# 2\n",
    "\n",
    "\n",
    "def coin_tosses_2(n):\n",
    "    # Set thresholds\n",
    "    l_thresh = 0.4\n",
    "    h_thresh = 0.6\n",
    "\n",
    "    # Init counters\n",
    "    in_thresh = 0\n",
    "    counter = 0\n",
    "\n",
    "    while in_thresh < 95:\n",
    "        counter += 1\n",
    "\n",
    "        # Random sample of coin flips of size n\n",
    "        x = [random.randint(0, 1) for x in range(n)]\n",
    "        heads = x.count(1)\n",
    "        h_prop = heads / len(x)\n",
    "\n",
    "        # Increment if within threshold\n",
    "        if h_prop > l_thresh and h_prop < h_thresh:\n",
    "            in_thresh += 1\n",
    "\n",
    "    print(counter)\n",
    "\n",
    "    return None\n",
    "\n",
    "\n",
    "coin_tosses_2(50)\n"
   ]
  },
  {
   "cell_type": "code",
   "execution_count": 4,
   "metadata": {},
   "outputs": [
    {
     "name": "stdout",
     "output_type": "stream",
     "text": [
      "0.122\n",
      "0.1286\n"
     ]
    }
   ],
   "source": [
    "# 3\n",
    "\n",
    "\n",
    "def galileo_figero(n):\n",
    "    dice = 3\n",
    "    nine, ten = 0, 0\n",
    "\n",
    "    for i in range(n):\n",
    "        nine += sum(random.randint(1, 6) for die in range(dice)) == 9\n",
    "        ten += sum(random.randint(1, 6) for die in range(dice)) == 10\n",
    "    print(nine / n)\n",
    "    print(ten / n)\n",
    "\n",
    "\n",
    "galileo_figero(10000)"
   ]
  },
  {
   "cell_type": "code",
   "execution_count": 5,
   "metadata": {},
   "outputs": [
    {
     "name": "stdout",
     "output_type": "stream",
     "text": [
      "It's your serve\n",
      "Lost serve\n",
      "Score is 0 - 0\n",
      "Your opponent serves\n",
      "You won the point\n",
      "Score is 0 - 0\n",
      "It's your serve\n",
      "Won serve and point!\n",
      "Score is 1 - 0\n",
      "It's your serve\n",
      "Lost serve\n",
      "Score is 1 - 0\n",
      "Your opponent serves\n",
      "They won the point\n",
      "Score is 1 - 1\n",
      "Your opponent serves\n",
      "They won the point\n",
      "Score is 1 - 2\n",
      "Your opponent serves\n",
      "They won the point\n",
      "Score is 1 - 3\n",
      "Your opponent serves\n",
      "They won the point\n",
      "Score is 1 - 4\n",
      "Your opponent serves\n",
      "You won the point\n",
      "Score is 1 - 4\n",
      "It's your serve\n",
      "Lost serve\n",
      "Score is 1 - 4\n",
      "Your opponent serves\n",
      "You won the point\n",
      "Score is 1 - 4\n",
      "It's your serve\n",
      "Won serve and point!\n",
      "Score is 2 - 4\n",
      "It's your serve\n",
      "Lost serve\n",
      "Score is 2 - 4\n",
      "Your opponent serves\n",
      "They won the point\n",
      "Score is 2 - 5\n",
      "Your opponent serves\n",
      "You won the point\n",
      "Score is 2 - 5\n",
      "It's your serve\n",
      "Lost serve\n",
      "Score is 2 - 5\n",
      "Your opponent serves\n",
      "They won the point\n",
      "Score is 2 - 6\n",
      "Your opponent serves\n",
      "They won the point\n",
      "Score is 2 - 7\n",
      "Your opponent serves\n",
      "You won the point\n",
      "Score is 2 - 7\n",
      "It's your serve\n",
      "Won serve and point!\n",
      "Score is 3 - 7\n",
      "It's your serve\n",
      "Won serve and point!\n",
      "Score is 4 - 7\n",
      "It's your serve\n",
      "Won serve and point!\n",
      "Score is 5 - 7\n",
      "It's your serve\n",
      "Won serve and point!\n",
      "Score is 6 - 7\n",
      "It's your serve\n",
      "Lost serve\n",
      "Score is 6 - 7\n",
      "Your opponent serves\n",
      "They won the point\n",
      "Score is 6 - 8\n",
      "Your opponent serves\n",
      "You won the point\n",
      "Score is 6 - 8\n",
      "It's your serve\n",
      "Lost serve\n",
      "Score is 6 - 8\n",
      "Your opponent serves\n",
      "You won the point\n",
      "Score is 6 - 8\n",
      "It's your serve\n",
      "Lost serve\n",
      "Score is 6 - 8\n",
      "Your opponent serves\n",
      "You won the point\n",
      "Score is 6 - 8\n",
      "It's your serve\n",
      "Lost serve\n",
      "Score is 6 - 8\n",
      "Your opponent serves\n",
      "They won the point\n",
      "Score is 6 - 9\n",
      "Your opponent serves\n",
      "They won the point\n",
      "Score is 6 - 10\n",
      "Your opponent serves\n",
      "You won the point\n",
      "Score is 6 - 10\n",
      "It's your serve\n",
      "Lost serve\n",
      "Score is 6 - 10\n",
      "Your opponent serves\n",
      "You won the point\n",
      "Score is 6 - 10\n",
      "It's your serve\n",
      "Lost serve\n",
      "Score is 6 - 10\n",
      "Your opponent serves\n",
      "They won the point\n",
      "Score is 6 - 11\n",
      "Your opponent serves\n",
      "They won the point\n",
      "Score is 6 - 12\n",
      "Your opponent serves\n",
      "You won the point\n",
      "Score is 6 - 12\n",
      "It's your serve\n",
      "Won serve and point!\n",
      "Score is 7 - 12\n",
      "It's your serve\n",
      "Lost serve\n",
      "Score is 7 - 12\n",
      "Your opponent serves\n",
      "You won the point\n",
      "Score is 7 - 12\n",
      "It's your serve\n",
      "Won serve and point!\n",
      "Score is 8 - 12\n",
      "It's your serve\n",
      "Lost serve\n",
      "Score is 8 - 12\n",
      "Your opponent serves\n",
      "You won the point\n",
      "Score is 8 - 12\n",
      "It's your serve\n",
      "Lost serve\n",
      "Score is 8 - 12\n",
      "Your opponent serves\n",
      "They won the point\n",
      "Score is 8 - 13\n",
      "Your opponent serves\n",
      "They won the point\n",
      "Score is 8 - 14\n",
      "Your opponent serves\n",
      "They won the point\n",
      "Score is 8 - 15\n",
      "Your opponent serves\n",
      "You won the point\n",
      "Score is 8 - 15\n",
      "It's your serve\n",
      "Won serve and point!\n",
      "Score is 9 - 15\n",
      "It's your serve\n",
      "Lost serve\n",
      "Score is 9 - 15\n",
      "Your opponent serves\n",
      "They won the point\n",
      "Score is 9 - 16\n",
      "Your opponent serves\n",
      "You won the point\n",
      "Score is 9 - 16\n",
      "It's your serve\n",
      "Lost serve\n",
      "Score is 9 - 16\n",
      "Your opponent serves\n",
      "They won the point\n",
      "Score is 9 - 17\n",
      "Your opponent serves\n",
      "You won the point\n",
      "Score is 9 - 17\n",
      "It's your serve\n",
      "Lost serve\n",
      "Score is 9 - 17\n",
      "Your opponent serves\n",
      "They won the point\n",
      "Score is 9 - 18\n",
      "Your opponent serves\n",
      "You won the point\n",
      "Score is 9 - 18\n",
      "It's your serve\n",
      "Won serve and point!\n",
      "Score is 10 - 18\n",
      "It's your serve\n",
      "Won serve and point!\n",
      "Score is 11 - 18\n",
      "It's your serve\n",
      "Lost serve\n",
      "Score is 11 - 18\n",
      "Your opponent serves\n",
      "They won the point\n",
      "Score is 11 - 19\n",
      "Your opponent serves\n",
      "You won the point\n",
      "Score is 11 - 19\n",
      "It's your serve\n",
      "Lost serve\n",
      "Score is 11 - 19\n",
      "Your opponent serves\n",
      "You won the point\n",
      "Score is 11 - 19\n",
      "It's your serve\n",
      "Lost serve\n",
      "Score is 11 - 19\n",
      "Your opponent serves\n",
      "They won the point\n",
      "Score is 11 - 20\n",
      "Your opponent serves\n",
      "They won the point\n",
      "Score is 11 - 21\n",
      "Good thing you're in a master's program\n"
     ]
    }
   ],
   "source": [
    "# 4\n",
    "\n",
    "\n",
    "def federer():\n",
    "    my_serve_rate = 0.6\n",
    "    op_serve_rate = 0.5\n",
    "\n",
    "    my_points = 0\n",
    "    op_points = 0\n",
    "\n",
    "    my_serve = True\n",
    "\n",
    "    win_score = 21\n",
    "\n",
    "    # While the game is ongoing\n",
    "    while my_points < win_score and op_points < win_score:\n",
    "        # A serve happens\n",
    "        serve = random.random()\n",
    "\n",
    "        # If its my serve\n",
    "        if my_serve:\n",
    "            print(\"It's your serve\")\n",
    "            # And I score, give me a point\n",
    "            if serve >= my_serve_rate:\n",
    "                print(\"Won serve and point!\")\n",
    "                my_points += 1\n",
    "            else:\n",
    "                print(\"Lost serve\")\n",
    "                my_serve = False  # Otherwise I lose my serve\n",
    "\n",
    "        else:\n",
    "            print(\"Your opponent serves\")\n",
    "            if serve >= op_serve_rate:\n",
    "                print(\"They won the point\")\n",
    "                op_points += 1\n",
    "\n",
    "            else:\n",
    "                my_serve = True\n",
    "                print(\"You won the point\")\n",
    "\n",
    "        print(f\"Score is {my_points} - {op_points}\")\n",
    "\n",
    "    if my_points == win_score:\n",
    "        print(\"You're the best\")\n",
    "    else:\n",
    "        print(\"Good thing you're in a master's program\")\n",
    "\n",
    "\n",
    "federer()"
   ]
  },
  {
   "cell_type": "code",
   "execution_count": 6,
   "metadata": {},
   "outputs": [
    {
     "name": "stdout",
     "output_type": "stream",
     "text": [
      "Probability of a triple six 0.0046\n",
      "Number of attempts to get triple six: 24\n"
     ]
    }
   ],
   "source": [
    "# 5\n",
    "\n",
    "\n",
    "def demoivre():\n",
    "    dice = 3\n",
    "\n",
    "    triple_six = False\n",
    "\n",
    "    print(f\"Probability of a triple six {((1 / 6) ** 3):.4f}\")\n",
    "\n",
    "    attempts = 0\n",
    "\n",
    "    while triple_six == False:\n",
    "        attempts += 1\n",
    "        result = [random.randint(1, 6) for die in range(dice)]\n",
    "\n",
    "        # Check if all results are 6\n",
    "        if all(die == 6 for die in result):\n",
    "            triple_six = True\n",
    "\n",
    "    print(f\"Number of attempts to get triple six: {attempts:,}\")\n",
    "\n",
    "\n",
    "demoivre()"
   ]
  },
  {
   "cell_type": "markdown",
   "metadata": {},
   "source": [
    "## Chapter 2"
   ]
  },
  {
   "cell_type": "code",
   "execution_count": 7,
   "metadata": {},
   "outputs": [
    {
     "data": {
      "text/plain": [
       "<seaborn.axisgrid.FacetGrid at 0x2942b5197f0>"
      ]
     },
     "execution_count": 7,
     "metadata": {},
     "output_type": "execute_result"
    },
    {
     "data": {
      "image/png": "[encoded data removed]",
      "text/plain": [
       "<Figure size 500x500 with 1 Axes>"
      ]
     },
     "metadata": {},
     "output_type": "display_data"
    }
   ],
   "source": [
    "# Example 2.4\n",
    "\n",
    "import matplotlib.pyplot as plt\n",
    "import random\n",
    "import seaborn as sns\n",
    "\n",
    "v = []\n",
    "\n",
    "for i in range(10000):\n",
    "    x = random.random()\n",
    "    y = random.random()\n",
    "    z = x + y\n",
    "    v.append(z)\n",
    "\n",
    "sns.displot(v)"
   ]
  },
  {
   "cell_type": "code",
   "execution_count": 8,
   "metadata": {},
   "outputs": [
    {
     "data": {
      "image/png": "[encoded data removed]",
      "text/plain": [
       "<Figure size 640x480 with 1 Axes>"
      ]
     },
     "metadata": {},
     "output_type": "display_data"
    }
   ],
   "source": [
    "# Exercise 1\n",
    "\n",
    "import math\n",
    "\n",
    "\n",
    "def exercise_2_1(n):\n",
    "    # This is one way to do it but not sure if it's a great way!\n",
    "    # Divide unit circle into arcs of 1/2, 1/3, 1/6\n",
    "    unit_circle_circumf = 2 * math.pi * 1  # unit circle, so radius of 1\n",
    "\n",
    "    # Do I even need this? Can I not say that it is simply just a .5, .33, and .1667 chance respectively?\n",
    "    # arc1 = (1/2) * unit_circle_circumf\n",
    "    # arc2 = (1/3) * unit_circle_circumf\n",
    "    # arc3 = (1/6) * unit_circle_circumf\n",
    "\n",
    "    arc1 = 0.5\n",
    "    arc2 = arc1 + 0.33  # Add each arc to each other to complete the circle\n",
    "    arc3 = arc2 + 0.167\n",
    "\n",
    "    results = {\"arc1\": [], \"arc2\": [], \"arc3\": []}\n",
    "\n",
    "    # Simulate a spin between 0 and 1\n",
    "    for i in range(n):\n",
    "        x = random.random()\n",
    "\n",
    "        # Track results\n",
    "        if x > 0 and x <= arc2:\n",
    "            results[\"arc1\"].append(1)\n",
    "        elif x > arc1 and x <= arc3:\n",
    "            results[\"arc2\"].append(1)\n",
    "        else:\n",
    "            results[\"arc3\"].append(1)\n",
    "\n",
    "    plt.subplot()\n",
    "\n",
    "    for arc in results:\n",
    "        plt.bar(results[arc], height=sum(results[arc]), label=arc, align=\"edge\")\n",
    "\n",
    "    plt.legend()\n",
    "\n",
    "\n",
    "exercise_2_1(1000)"
   ]
  },
  {
   "cell_type": "markdown",
   "metadata": {},
   "source": [
    "### Chapter 2, Exercise 3 - Grinstead & Snell\n",
    "\n",
    "I found it fantastically satisfying to see how early scientists and mathematicians used simulation to estimate pi. The only thing more satisfying than \"discovering\" natural phenomena yourself is proving a bunch of your friends wrong by dumping a box of pins on the floor.\n",
    "\n",
    "In that spirit, I generally find simulating probabilities to be extremely useful in locking down the concepts in my head, so I used Exercse 3 from Chapter 2 in Grinstead & Snell for this week's discussion.\n",
    "\n",
    "Firstly a reminder on some basic geometery. We calculate a circle's area as $A = \\pi r^2$. We use simulation to estimate $A$, which give us a way to solve for $\\pi$.\n",
    "\n",
    "To do this, we set up a function that simulates multiple coordinates within the unit square (1, 1). We then calculate the ratio of coordinates that are within a circle of a given radius ($0 < r \\le 1$). This is our estimate for the area of the circle. From there it is simple algebra!"
   ]
  },
  {
   "cell_type": "code",
   "execution_count": 9,
   "metadata": {},
   "outputs": [
    {
     "name": "stdout",
     "output_type": "stream",
     "text": [
      "Ratio of hits in the circle:0.788\n",
      "Area of the circle 0.7853981633974483\n",
      "Our pi estimate: 3.152\n"
     ]
    },
    {
     "data": {
      "image/png": "[encoded data removed]",
      "text/plain": [
       "<Figure size 1000x1000 with 1 Axes>"
      ]
     },
     "metadata": {},
     "output_type": "display_data"
    }
   ],
   "source": [
    "# Exercise 3\n",
    "import math\n",
    "import random\n",
    "import matplotlib.pyplot as plt\n",
    "\n",
    "\n",
    "def exercise_2_3(n, radius):\n",
    "    \"\"\"Estimates pi through simulating random points in the unit square\"\"\"\n",
    "\n",
    "    # Radius of our circle\n",
    "    r = radius\n",
    "    hit = 0  # if we land in the circle\n",
    "    miss = 0  # we land in the unit square, outside circle\n",
    "\n",
    "    # Keep track of results for plotting later\n",
    "    x_hit = []\n",
    "    y_hit = []\n",
    "\n",
    "    x_miss = []\n",
    "    y_miss = []\n",
    "\n",
    "    for i in range(n):\n",
    "        # Get random coord\n",
    "        x = random.random()\n",
    "        y = random.random()\n",
    "\n",
    "        # Circle is represented on coord system by r**2 = x**2 + y**2\n",
    "        if (x - 0.5) ** 2 + (y - 0.5) ** 2 < r**2:\n",
    "            hit += 1\n",
    "            x_hit.append(x)\n",
    "            y_hit.append(y)\n",
    "        else:\n",
    "            miss += 1\n",
    "            x_miss.append(x)\n",
    "            y_miss.append(y)\n",
    "\n",
    "    # This should be close to the area of the circle\n",
    "    ratio = hit / (miss + hit)\n",
    "    print(f\"Ratio of hits in the circle:{ratio}\")\n",
    "    print(f\"Area of the circle {math.pi * (r**2)}\")\n",
    "\n",
    "    # If we didn't know pi, we could estimate using the information we now have\n",
    "    estimate_pi = ratio / (r**2)\n",
    "    print(f\"Our pi estimate: {estimate_pi}\")\n",
    "\n",
    "    # plot simulation\n",
    "    plt.figure(figsize=(10, 10))\n",
    "\n",
    "    # draw the circle\n",
    "    circle = plt.Circle(xy=(0.5, 0.5), radius=r, color=\"lightgrey\")\n",
    "    plt.gca().add_patch(circle)\n",
    "\n",
    "    # color code coordinates\n",
    "    plt.scatter(x=x_hit, y=y_hit, s=1, c=\"magenta\", label=\"hit\")\n",
    "    plt.scatter(x=x_miss, y=y_miss, s=1, c=\"orange\", label=\"miss\")\n",
    "\n",
    "    # Restrict to unit square\n",
    "    plt.xlim = (0, 1)\n",
    "    plt.ylim = (0, 1)\n",
    "    plt.legend()\n",
    "    plt.title(\"Estimating π via simulation\")\n",
    "\n",
    "\n",
    "exercise_2_3(n=1000, radius=0.5)"
   ]
  },
  {
   "cell_type": "markdown",
   "metadata": {},
   "source": [
    "## Chapter 5"
   ]
  },
  {
   "cell_type": "markdown",
   "metadata": {},
   "source": [
    "$$\n",
    "\\binom{n}kp^kq^{n-k} = \\frac{n!}{k!(n-k)!}p^k(1-p)^{n-k}\n",
    "$$"
   ]
  },
  {
   "cell_type": "code",
   "execution_count": 10,
   "metadata": {},
   "outputs": [
    {
     "name": "stdout",
     "output_type": "stream",
     "text": [
      "2.4583055954508074e-278\n"
     ]
    }
   ],
   "source": [
    "# binomial distribution simulation\n",
    "import math\n",
    "\n",
    "\n",
    "def binomial_dist(n):\n",
    "    p = 0.5\n",
    "    q = 0.5\n",
    "    k = 10\n",
    "\n",
    "    n_choose_k = math.factorial(n) / (math.factorial(k) * (math.factorial(n - k)))\n",
    "\n",
    "    print(n_choose_k * p**k * q ** (n - k))\n",
    "\n",
    "\n",
    "binomial_dist(1000)"
   ]
  },
  {
   "cell_type": "code",
   "execution_count": 11,
   "metadata": {},
   "outputs": [
    {
     "ename": "TypeError",
     "evalue": "geometric() missing 1 required positional argument: 'n'",
     "output_type": "error",
     "traceback": [
      "\u001b[1;31m---------------------------------------------------------------------------\u001b[0m",
      "\u001b[1;31mTypeError\u001b[0m                                 Traceback (most recent call last)",
      "Cell \u001b[1;32mIn[11], line 35\u001b[0m\n\u001b[0;32m     30\u001b[0m     plt\u001b[38;5;241m.\u001b[39mshow()\n\u001b[0;32m     33\u001b[0m \u001b[38;5;66;03m# Not working as expected\u001b[39;00m\n\u001b[1;32m---> 35\u001b[0m \u001b[43mgeometric\u001b[49m\u001b[43m(\u001b[49m\u001b[38;5;241;43m50\u001b[39;49m\u001b[43m)\u001b[49m\n",
      "\u001b[1;31mTypeError\u001b[0m: geometric() missing 1 required positional argument: 'n'"
     ]
    }
   ],
   "source": [
    "# geometric distribution\n",
    "\n",
    "\n",
    "def geometric(p, n):\n",
    "    # Target success\n",
    "\n",
    "    samples = []\n",
    "\n",
    "    for i in range(n):\n",
    "        k = 1\n",
    "        while random.random() < p:\n",
    "            k += 1\n",
    "        samples.append(k)\n",
    "\n",
    "    max_k = max(samples)\n",
    "    counts = ...\n",
    "\n",
    "    plt.figure(figsize=(10, 6))  # Optional: set the figure size\n",
    "    plt.bar(k_trials, P_list)\n",
    "\n",
    "    # Add labels and title (optional)\n",
    "    plt.xlabel(\"Number of trials\")\n",
    "    plt.ylabel(\"Target P value\")\n",
    "    plt.title(\"Bar Chart of List Values\")\n",
    "\n",
    "    # Set the x-tick positions to match your list indices\n",
    "    plt.xticks(k_trials)\n",
    "\n",
    "    # Display the chart\n",
    "    plt.show()\n",
    "\n",
    "\n",
    "# Not working as expected\n",
    "\n",
    "geometric(50)"
   ]
  },
  {
   "cell_type": "code",
   "execution_count": null,
   "metadata": {},
   "outputs": [
    {
     "ename": "ValueError",
     "evalue": "shape mismatch: objects cannot be broadcast to a single shape.  Mismatch is between arg 0 with shape (10,) and arg 1 with shape (100,).",
     "output_type": "error",
     "traceback": [
      "\u001b[0;31m---------------------------------------------------------------------------\u001b[0m",
      "\u001b[0;31mValueError\u001b[0m                                Traceback (most recent call last)",
      "Cell \u001b[0;32mIn[36], line 27\u001b[0m\n\u001b[1;32m     23\u001b[0m     plt\u001b[38;5;241m.\u001b[39mshow()        \n\u001b[1;32m     25\u001b[0m     \u001b[38;5;66;03m# \"X has a negative binomial distrubtion for a given k\"\u001b[39;00m\n\u001b[0;32m---> 27\u001b[0m \u001b[43mneg_binom\u001b[49m\u001b[43m(\u001b[49m\u001b[38;5;241;43m10\u001b[39;49m\u001b[43m)\u001b[49m\n",
      "Cell \u001b[0;32mIn[36], line 22\u001b[0m, in \u001b[0;36mneg_binom\u001b[0;34m(n)\u001b[0m\n\u001b[1;32m     18\u001b[0m             results\u001b[38;5;241m.\u001b[39mappend(X)\n\u001b[1;32m     21\u001b[0m plt\u001b[38;5;241m.\u001b[39msubplot()\n\u001b[0;32m---> 22\u001b[0m \u001b[43mplt\u001b[49m\u001b[38;5;241;43m.\u001b[39;49m\u001b[43mbar\u001b[49m\u001b[43m(\u001b[49m\u001b[43mx\u001b[49m\u001b[38;5;241;43m=\u001b[39;49m\u001b[38;5;28;43mlist\u001b[39;49m\u001b[43m(\u001b[49m\u001b[38;5;28;43mrange\u001b[39;49m\u001b[43m(\u001b[49m\u001b[43mn\u001b[49m\u001b[43m)\u001b[49m\u001b[43m)\u001b[49m\u001b[43m,\u001b[49m\u001b[43m \u001b[49m\u001b[43mheight\u001b[49m\u001b[38;5;241;43m=\u001b[39;49m\u001b[43mresults\u001b[49m\u001b[43m)\u001b[49m\n\u001b[1;32m     23\u001b[0m plt\u001b[38;5;241m.\u001b[39mshow()\n",
      "File \u001b[0;32m~/projects/DATA605_discussion/.venv/lib/python3.13/site-packages/matplotlib/pyplot.py:2981\u001b[0m, in \u001b[0;36mbar\u001b[0;34m(x, height, width, bottom, align, data, **kwargs)\u001b[0m\n\u001b[1;32m   2970\u001b[0m \u001b[38;5;129m@_copy_docstring_and_deprecators\u001b[39m(Axes\u001b[38;5;241m.\u001b[39mbar)\n\u001b[1;32m   2971\u001b[0m \u001b[38;5;28;01mdef\u001b[39;00m\u001b[38;5;250m \u001b[39m\u001b[38;5;21mbar\u001b[39m(\n\u001b[1;32m   2972\u001b[0m     x: \u001b[38;5;28mfloat\u001b[39m \u001b[38;5;241m|\u001b[39m ArrayLike,\n\u001b[0;32m   (...)\u001b[0m\n\u001b[1;32m   2979\u001b[0m     \u001b[38;5;241m*\u001b[39m\u001b[38;5;241m*\u001b[39mkwargs,\n\u001b[1;32m   2980\u001b[0m ) \u001b[38;5;241m-\u001b[39m\u001b[38;5;241m>\u001b[39m BarContainer:\n\u001b[0;32m-> 2981\u001b[0m     \u001b[38;5;28;01mreturn\u001b[39;00m \u001b[43mgca\u001b[49m\u001b[43m(\u001b[49m\u001b[43m)\u001b[49m\u001b[38;5;241;43m.\u001b[39;49m\u001b[43mbar\u001b[49m\u001b[43m(\u001b[49m\n\u001b[1;32m   2982\u001b[0m \u001b[43m        \u001b[49m\u001b[43mx\u001b[49m\u001b[43m,\u001b[49m\n\u001b[1;32m   2983\u001b[0m \u001b[43m        \u001b[49m\u001b[43mheight\u001b[49m\u001b[43m,\u001b[49m\n\u001b[1;32m   2984\u001b[0m \u001b[43m        \u001b[49m\u001b[43mwidth\u001b[49m\u001b[38;5;241;43m=\u001b[39;49m\u001b[43mwidth\u001b[49m\u001b[43m,\u001b[49m\n\u001b[1;32m   2985\u001b[0m \u001b[43m        \u001b[49m\u001b[43mbottom\u001b[49m\u001b[38;5;241;43m=\u001b[39;49m\u001b[43mbottom\u001b[49m\u001b[43m,\u001b[49m\n\u001b[1;32m   2986\u001b[0m \u001b[43m        \u001b[49m\u001b[43malign\u001b[49m\u001b[38;5;241;43m=\u001b[39;49m\u001b[43malign\u001b[49m\u001b[43m,\u001b[49m\n\u001b[1;32m   2987\u001b[0m \u001b[43m        \u001b[49m\u001b[38;5;241;43m*\u001b[39;49m\u001b[38;5;241;43m*\u001b[39;49m\u001b[43m(\u001b[49m\u001b[43m{\u001b[49m\u001b[38;5;124;43m\"\u001b[39;49m\u001b[38;5;124;43mdata\u001b[39;49m\u001b[38;5;124;43m\"\u001b[39;49m\u001b[43m:\u001b[49m\u001b[43m \u001b[49m\u001b[43mdata\u001b[49m\u001b[43m}\u001b[49m\u001b[43m \u001b[49m\u001b[38;5;28;43;01mif\u001b[39;49;00m\u001b[43m \u001b[49m\u001b[43mdata\u001b[49m\u001b[43m \u001b[49m\u001b[38;5;129;43;01mis\u001b[39;49;00m\u001b[43m \u001b[49m\u001b[38;5;129;43;01mnot\u001b[39;49;00m\u001b[43m \u001b[49m\u001b[38;5;28;43;01mNone\u001b[39;49;00m\u001b[43m \u001b[49m\u001b[38;5;28;43;01melse\u001b[39;49;00m\u001b[43m \u001b[49m\u001b[43m{\u001b[49m\u001b[43m}\u001b[49m\u001b[43m)\u001b[49m\u001b[43m,\u001b[49m\n\u001b[1;32m   2988\u001b[0m \u001b[43m        \u001b[49m\u001b[38;5;241;43m*\u001b[39;49m\u001b[38;5;241;43m*\u001b[39;49m\u001b[43mkwargs\u001b[49m\u001b[43m,\u001b[49m\n\u001b[1;32m   2989\u001b[0m \u001b[43m    \u001b[49m\u001b[43m)\u001b[49m\n",
      "File \u001b[0;32m~/projects/DATA605_discussion/.venv/lib/python3.13/site-packages/matplotlib/__init__.py:1521\u001b[0m, in \u001b[0;36m_preprocess_data.<locals>.inner\u001b[0;34m(ax, data, *args, **kwargs)\u001b[0m\n\u001b[1;32m   1518\u001b[0m \u001b[38;5;129m@functools\u001b[39m\u001b[38;5;241m.\u001b[39mwraps(func)\n\u001b[1;32m   1519\u001b[0m \u001b[38;5;28;01mdef\u001b[39;00m\u001b[38;5;250m \u001b[39m\u001b[38;5;21minner\u001b[39m(ax, \u001b[38;5;241m*\u001b[39margs, data\u001b[38;5;241m=\u001b[39m\u001b[38;5;28;01mNone\u001b[39;00m, \u001b[38;5;241m*\u001b[39m\u001b[38;5;241m*\u001b[39mkwargs):\n\u001b[1;32m   1520\u001b[0m     \u001b[38;5;28;01mif\u001b[39;00m data \u001b[38;5;129;01mis\u001b[39;00m \u001b[38;5;28;01mNone\u001b[39;00m:\n\u001b[0;32m-> 1521\u001b[0m         \u001b[38;5;28;01mreturn\u001b[39;00m \u001b[43mfunc\u001b[49m\u001b[43m(\u001b[49m\n\u001b[1;32m   1522\u001b[0m \u001b[43m            \u001b[49m\u001b[43max\u001b[49m\u001b[43m,\u001b[49m\n\u001b[1;32m   1523\u001b[0m \u001b[43m            \u001b[49m\u001b[38;5;241;43m*\u001b[39;49m\u001b[38;5;28;43mmap\u001b[39;49m\u001b[43m(\u001b[49m\u001b[43mcbook\u001b[49m\u001b[38;5;241;43m.\u001b[39;49m\u001b[43msanitize_sequence\u001b[49m\u001b[43m,\u001b[49m\u001b[43m \u001b[49m\u001b[43margs\u001b[49m\u001b[43m)\u001b[49m\u001b[43m,\u001b[49m\n\u001b[1;32m   1524\u001b[0m \u001b[43m            \u001b[49m\u001b[38;5;241;43m*\u001b[39;49m\u001b[38;5;241;43m*\u001b[39;49m\u001b[43m{\u001b[49m\u001b[43mk\u001b[49m\u001b[43m:\u001b[49m\u001b[43m \u001b[49m\u001b[43mcbook\u001b[49m\u001b[38;5;241;43m.\u001b[39;49m\u001b[43msanitize_sequence\u001b[49m\u001b[43m(\u001b[49m\u001b[43mv\u001b[49m\u001b[43m)\u001b[49m\u001b[43m \u001b[49m\u001b[38;5;28;43;01mfor\u001b[39;49;00m\u001b[43m \u001b[49m\u001b[43mk\u001b[49m\u001b[43m,\u001b[49m\u001b[43m \u001b[49m\u001b[43mv\u001b[49m\u001b[43m \u001b[49m\u001b[38;5;129;43;01min\u001b[39;49;00m\u001b[43m \u001b[49m\u001b[43mkwargs\u001b[49m\u001b[38;5;241;43m.\u001b[39;49m\u001b[43mitems\u001b[49m\u001b[43m(\u001b[49m\u001b[43m)\u001b[49m\u001b[43m}\u001b[49m\u001b[43m)\u001b[49m\n\u001b[1;32m   1526\u001b[0m     bound \u001b[38;5;241m=\u001b[39m new_sig\u001b[38;5;241m.\u001b[39mbind(ax, \u001b[38;5;241m*\u001b[39margs, \u001b[38;5;241m*\u001b[39m\u001b[38;5;241m*\u001b[39mkwargs)\n\u001b[1;32m   1527\u001b[0m     auto_label \u001b[38;5;241m=\u001b[39m (bound\u001b[38;5;241m.\u001b[39marguments\u001b[38;5;241m.\u001b[39mget(label_namer)\n\u001b[1;32m   1528\u001b[0m                   \u001b[38;5;129;01mor\u001b[39;00m bound\u001b[38;5;241m.\u001b[39mkwargs\u001b[38;5;241m.\u001b[39mget(label_namer))\n",
      "File \u001b[0;32m~/projects/DATA605_discussion/.venv/lib/python3.13/site-packages/matplotlib/axes/_axes.py:2572\u001b[0m, in \u001b[0;36mAxes.bar\u001b[0;34m(self, x, height, width, bottom, align, **kwargs)\u001b[0m\n\u001b[1;32m   2569\u001b[0m     \u001b[38;5;28;01mif\u001b[39;00m yerr \u001b[38;5;129;01mis\u001b[39;00m \u001b[38;5;129;01mnot\u001b[39;00m \u001b[38;5;28;01mNone\u001b[39;00m:\n\u001b[1;32m   2570\u001b[0m         yerr \u001b[38;5;241m=\u001b[39m \u001b[38;5;28mself\u001b[39m\u001b[38;5;241m.\u001b[39m_convert_dx(yerr, y0, y, \u001b[38;5;28mself\u001b[39m\u001b[38;5;241m.\u001b[39mconvert_yunits)\n\u001b[0;32m-> 2572\u001b[0m x, height, width, y, linewidth, hatch \u001b[38;5;241m=\u001b[39m \u001b[43mnp\u001b[49m\u001b[38;5;241;43m.\u001b[39;49m\u001b[43mbroadcast_arrays\u001b[49m\u001b[43m(\u001b[49m\n\u001b[1;32m   2573\u001b[0m \u001b[43m    \u001b[49m\u001b[38;5;66;43;03m# Make args iterable too.\u001b[39;49;00m\n\u001b[1;32m   2574\u001b[0m \u001b[43m    \u001b[49m\u001b[43mnp\u001b[49m\u001b[38;5;241;43m.\u001b[39;49m\u001b[43matleast_1d\u001b[49m\u001b[43m(\u001b[49m\u001b[43mx\u001b[49m\u001b[43m)\u001b[49m\u001b[43m,\u001b[49m\u001b[43m \u001b[49m\u001b[43mheight\u001b[49m\u001b[43m,\u001b[49m\u001b[43m \u001b[49m\u001b[43mwidth\u001b[49m\u001b[43m,\u001b[49m\u001b[43m \u001b[49m\u001b[43my\u001b[49m\u001b[43m,\u001b[49m\u001b[43m \u001b[49m\u001b[43mlinewidth\u001b[49m\u001b[43m,\u001b[49m\u001b[43m \u001b[49m\u001b[43mhatch\u001b[49m\u001b[43m)\u001b[49m\n\u001b[1;32m   2576\u001b[0m \u001b[38;5;66;03m# Now that units have been converted, set the tick locations.\u001b[39;00m\n\u001b[1;32m   2577\u001b[0m \u001b[38;5;28;01mif\u001b[39;00m orientation \u001b[38;5;241m==\u001b[39m \u001b[38;5;124m'\u001b[39m\u001b[38;5;124mvertical\u001b[39m\u001b[38;5;124m'\u001b[39m:\n",
      "File \u001b[0;32m~/projects/DATA605_discussion/.venv/lib/python3.13/site-packages/numpy/lib/_stride_tricks_impl.py:544\u001b[0m, in \u001b[0;36mbroadcast_arrays\u001b[0;34m(subok, *args)\u001b[0m\n\u001b[1;32m    537\u001b[0m \u001b[38;5;66;03m# nditer is not used here to avoid the limit of 32 arrays.\u001b[39;00m\n\u001b[1;32m    538\u001b[0m \u001b[38;5;66;03m# Otherwise, something like the following one-liner would suffice:\u001b[39;00m\n\u001b[1;32m    539\u001b[0m \u001b[38;5;66;03m# return np.nditer(args, flags=['multi_index', 'zerosize_ok'],\u001b[39;00m\n\u001b[1;32m    540\u001b[0m \u001b[38;5;66;03m#                  order='C').itviews\u001b[39;00m\n\u001b[1;32m    542\u001b[0m args \u001b[38;5;241m=\u001b[39m [np\u001b[38;5;241m.\u001b[39marray(_m, copy\u001b[38;5;241m=\u001b[39m\u001b[38;5;28;01mNone\u001b[39;00m, subok\u001b[38;5;241m=\u001b[39msubok) \u001b[38;5;28;01mfor\u001b[39;00m _m \u001b[38;5;129;01min\u001b[39;00m args]\n\u001b[0;32m--> 544\u001b[0m shape \u001b[38;5;241m=\u001b[39m \u001b[43m_broadcast_shape\u001b[49m\u001b[43m(\u001b[49m\u001b[38;5;241;43m*\u001b[39;49m\u001b[43margs\u001b[49m\u001b[43m)\u001b[49m\n\u001b[1;32m    546\u001b[0m result \u001b[38;5;241m=\u001b[39m [array \u001b[38;5;28;01mif\u001b[39;00m array\u001b[38;5;241m.\u001b[39mshape \u001b[38;5;241m==\u001b[39m shape\n\u001b[1;32m    547\u001b[0m           \u001b[38;5;28;01melse\u001b[39;00m _broadcast_to(array, shape, subok\u001b[38;5;241m=\u001b[39msubok, readonly\u001b[38;5;241m=\u001b[39m\u001b[38;5;28;01mFalse\u001b[39;00m)\n\u001b[1;32m    548\u001b[0m                           \u001b[38;5;28;01mfor\u001b[39;00m array \u001b[38;5;129;01min\u001b[39;00m args]\n\u001b[1;32m    549\u001b[0m \u001b[38;5;28;01mreturn\u001b[39;00m \u001b[38;5;28mtuple\u001b[39m(result)\n",
      "File \u001b[0;32m~/projects/DATA605_discussion/.venv/lib/python3.13/site-packages/numpy/lib/_stride_tricks_impl.py:419\u001b[0m, in \u001b[0;36m_broadcast_shape\u001b[0;34m(*args)\u001b[0m\n\u001b[1;32m    414\u001b[0m \u001b[38;5;250m\u001b[39m\u001b[38;5;124;03m\"\"\"Returns the shape of the arrays that would result from broadcasting the\u001b[39;00m\n\u001b[1;32m    415\u001b[0m \u001b[38;5;124;03msupplied arrays against each other.\u001b[39;00m\n\u001b[1;32m    416\u001b[0m \u001b[38;5;124;03m\"\"\"\u001b[39;00m\n\u001b[1;32m    417\u001b[0m \u001b[38;5;66;03m# use the old-iterator because np.nditer does not handle size 0 arrays\u001b[39;00m\n\u001b[1;32m    418\u001b[0m \u001b[38;5;66;03m# consistently\u001b[39;00m\n\u001b[0;32m--> 419\u001b[0m b \u001b[38;5;241m=\u001b[39m \u001b[43mnp\u001b[49m\u001b[38;5;241;43m.\u001b[39;49m\u001b[43mbroadcast\u001b[49m\u001b[43m(\u001b[49m\u001b[38;5;241;43m*\u001b[39;49m\u001b[43margs\u001b[49m\u001b[43m[\u001b[49m\u001b[43m:\u001b[49m\u001b[38;5;241;43m32\u001b[39;49m\u001b[43m]\u001b[49m\u001b[43m)\u001b[49m\n\u001b[1;32m    420\u001b[0m \u001b[38;5;66;03m# unfortunately, it cannot handle 32 or more arguments directly\u001b[39;00m\n\u001b[1;32m    421\u001b[0m \u001b[38;5;28;01mfor\u001b[39;00m pos \u001b[38;5;129;01min\u001b[39;00m \u001b[38;5;28mrange\u001b[39m(\u001b[38;5;241m32\u001b[39m, \u001b[38;5;28mlen\u001b[39m(args), \u001b[38;5;241m31\u001b[39m):\n\u001b[1;32m    422\u001b[0m     \u001b[38;5;66;03m# ironically, np.broadcast does not properly handle np.broadcast\u001b[39;00m\n\u001b[1;32m    423\u001b[0m     \u001b[38;5;66;03m# objects (it treats them as scalars)\u001b[39;00m\n\u001b[1;32m    424\u001b[0m     \u001b[38;5;66;03m# use broadcasting to avoid allocating the full array\u001b[39;00m\n",
      "\u001b[0;31mValueError\u001b[0m: shape mismatch: objects cannot be broadcast to a single shape.  Mismatch is between arg 0 with shape (10,) and arg 1 with shape (100,)."
     ]
    },
    {
     "data": {
      "image/png": "[encoded data removed]",
      "text/plain": [
       "<Figure size 640x480 with 1 Axes>"
      ]
     },
     "metadata": {},
     "output_type": "display_data"
    }
   ],
   "source": [
    "# Negative binomial\n",
    "\n",
    "\n",
    "def neg_binom(n):\n",
    "    # Probability of coin coming heads up\n",
    "    p = 0.5\n",
    "    results = []\n",
    "\n",
    "    for i in range(n):\n",
    "        k = 0\n",
    "        X = 0\n",
    "        while k < 10:\n",
    "            X += 1\n",
    "            x = random.random()\n",
    "            if x > p:\n",
    "                k += 1\n",
    "                results.append(X)\n",
    "\n",
    "    plt.subplot()\n",
    "    plt.bar(x=list(range(n)), height=results)\n",
    "    plt.show()\n",
    "\n",
    "    # \"X has a negative binomial distrubtion for a given k\"\n",
    "\n",
    "\n",
    "neg_binom(10)\n"
   ]
  },
  {
   "cell_type": "markdown",
   "metadata": {},
   "source": [
    "### Exercises"
   ]
  },
  {
   "cell_type": "markdown",
   "metadata": {},
   "source": [
    "1. Choose a number U from the unit interval [0, 1] with uniform distribution. Find the cumulative distribution and density for the random variables (a) Y = U + 2. (b) Y = U 3."
   ]
  },
  {
   "cell_type": "markdown",
   "metadata": {},
   "source": [
    "2. Choose a number U from the interval [0, 1] with uniform distribution. Find the cumulative distribution and density for the random variables (a) Y = 1/(U + 1). (b) Y = log(U + 1)."
   ]
  },
  {
   "cell_type": "code",
   "execution_count": 20,
   "metadata": {},
   "outputs": [
    {
     "name": "stderr",
     "output_type": "stream",
     "text": [
      "C:\\Users\\Kevin\\AppData\\Local\\Temp\\ipykernel_30660\\78817673.py:16: UserWarning: FigureCanvasAgg is non-interactive, and thus cannot be shown\n",
      "  fig.show()\n"
     ]
    },
    {
     "data": {
      "image/png": "[encoded data removed]",
      "text/plain": [
       "<Figure size 1600x500 with 4 Axes>"
      ]
     },
     "metadata": {},
     "output_type": "display_data"
    }
   ],
   "source": [
    "def exercise_5_1(n):\n",
    "    # Exc 1\n",
    "    a_list = [(random.random() + 2) for i in range(n)]\n",
    "    b_list = [(random.random() ** 3) for i in range(n)]\n",
    "\n",
    "    # Exc 2\n",
    "    c_list = [(1 / (random.random() + 1)) for i in range(n)]\n",
    "    d_list = [(math.log(random.random() + 1)) for i in range(n)]\n",
    "\n",
    "    fig, axes = plt.subplots(1, 4, figsize=(16, 5))\n",
    "\n",
    "    axes[0].hist(a_list)\n",
    "    axes[1].hist(b_list)\n",
    "    axes[2].hist(c_list)\n",
    "    axes[3].hist(d_list)\n",
    "    fig.show()\n",
    "\n",
    "\n",
    "exercise_5_1(100000)"
   ]
  },
  {
   "cell_type": "markdown",
   "metadata": {},
   "source": [
    "3. Use Corollary 5.2 to derive the expression for the random variable given in Equation 5.5. Hint: The random variables 1 − rnd and rnd are identically distributed."
   ]
  },
  {
   "cell_type": "markdown",
   "metadata": {},
   "source": [
    "Corollary 5.2 If $F(y)$ is a given cumulative distribution function that is strictly increasing when $0 < F(y) < 1$ and if U is a random variable with uniform distribution on [0, 1], then $Y = F^{−1}(U)$ has the cumulative distribution $F(y)$. Thus, to simulate a random variable with a given cumulative distribution F we need only set $Y = F^{−1}(rnd)$."
   ]
  },
  {
   "cell_type": "markdown",
   "metadata": {},
   "source": [
    "Equation 5.5\n",
    "$$\n",
    "Y = -\\frac{1}{\\lambda}log(rnd)\n",
    "$$"
   ]
  },
  {
   "cell_type": "code",
   "execution_count": 27,
   "metadata": {},
   "outputs": [
    {
     "data": {
      "image/png": "[encoded data removed]",
      "text/plain": [
       "<Figure size 640x480 with 1 Axes>"
      ]
     },
     "metadata": {},
     "output_type": "display_data"
    },
    {
     "data": {
      "text/plain": [
       "<matplotlib.lines.Line2D at 0x2942ee7b890>"
      ]
     },
     "execution_count": 27,
     "metadata": {},
     "output_type": "execute_result"
    },
    {
     "data": {
      "image/png": "[encoded data removed]",
      "text/plain": [
       "<Figure size 640x480 with 1 Axes>"
      ]
     },
     "metadata": {},
     "output_type": "display_data"
    }
   ],
   "source": [
    "def ex_5_3(n):\n",
    "    samples = [random.random() for _ in range(n)]\n",
    "    plt.ecdf(samples)\n",
    "    plt.show()\n",
    "\n",
    "    return samples\n",
    "\n",
    "\n",
    "samples = ex_5_3(100)\n",
    "\n",
    "inv_samples = [x**-1 for x in samples]\n",
    "plt.ecdf(inv_samples)"
   ]
  },
  {
   "cell_type": "code",
   "execution_count": 29,
   "metadata": {},
   "outputs": [
    {
     "ename": "ModuleNotFoundError",
     "evalue": "No module named 'scipy'",
     "output_type": "error",
     "traceback": [
      "\u001b[1;31m---------------------------------------------------------------------------\u001b[0m",
      "\u001b[1;31mModuleNotFoundError\u001b[0m                       Traceback (most recent call last)",
      "Cell \u001b[1;32mIn[29], line 4\u001b[0m\n\u001b[0;32m      2\u001b[0m \u001b[38;5;28;01mimport\u001b[39;00m\u001b[38;5;250m \u001b[39m\u001b[38;5;21;01mnumpy\u001b[39;00m\u001b[38;5;250m \u001b[39m\u001b[38;5;28;01mas\u001b[39;00m\u001b[38;5;250m \u001b[39m\u001b[38;5;21;01mnp\u001b[39;00m\n\u001b[0;32m      3\u001b[0m \u001b[38;5;28;01mimport\u001b[39;00m\u001b[38;5;250m \u001b[39m\u001b[38;5;21;01mmatplotlib\u001b[39;00m\u001b[38;5;21;01m.\u001b[39;00m\u001b[38;5;21;01mpyplot\u001b[39;00m\u001b[38;5;250m \u001b[39m\u001b[38;5;28;01mas\u001b[39;00m\u001b[38;5;250m \u001b[39m\u001b[38;5;21;01mplt\u001b[39;00m\n\u001b[1;32m----> 4\u001b[0m \u001b[38;5;28;01mfrom\u001b[39;00m\u001b[38;5;250m \u001b[39m\u001b[38;5;21;01mscipy\u001b[39;00m\u001b[38;5;250m \u001b[39m\u001b[38;5;28;01mimport\u001b[39;00m stats\n\u001b[0;32m      6\u001b[0m \u001b[38;5;66;03m# Set random seed for reproducibility\u001b[39;00m\n\u001b[0;32m      7\u001b[0m np\u001b[38;5;241m.\u001b[39mrandom\u001b[38;5;241m.\u001b[39mseed(\u001b[38;5;241m42\u001b[39m)\n",
      "\u001b[1;31mModuleNotFoundError\u001b[0m: No module named 'scipy'"
     ]
    }
   ],
   "source": [
    "# Claude example\n",
    "import numpy as np\n",
    "import matplotlib.pyplot as plt\n",
    "from scipy import stats\n",
    "\n",
    "# Set random seed for reproducibility\n",
    "np.random.seed(42)\n",
    "\n",
    "# Number of samples to generate\n",
    "n_samples = 10000\n",
    "\n",
    "# Example 1: Exponential Distribution\n",
    "# -----------------------------------------\n",
    "# The CDF of the exponential distribution with rate λ is:\n",
    "# F(y) = 1 - e^(-λy) for y ≥ 0\n",
    "\n",
    "# The inverse CDF is:\n",
    "# F^(-1)(u) = -ln(1-u)/λ\n",
    "\n",
    "\n",
    "def exponential_inverse_cdf(u, lambda_param=1.0):\n",
    "    \"\"\"Inverse CDF of exponential distribution\"\"\"\n",
    "    return -np.log(1 - u) / lambda_param\n",
    "\n",
    "\n",
    "# Generate uniform random variables\n",
    "uniform_samples = np.random.uniform(0, 1, n_samples)\n",
    "\n",
    "# Transform to exponential using the inverse CDF\n",
    "lambda_param = 0.5  # Rate parameter\n",
    "exponential_samples = exponential_inverse_cdf(uniform_samples, lambda_param)\n",
    "\n",
    "# Example 2: Triangular Distribution\n",
    "# -----------------------------------------\n",
    "# Consider a triangular distribution on [0,1] with mode at c=0.3\n",
    "# The CDF is piecewise:\n",
    "# F(y) = y²/(2c) for 0 ≤ y ≤ c\n",
    "# F(y) = 1 - (1-y)²/(2(1-c)) for c ≤ y ≤ 1\n",
    "\n",
    "\n",
    "def triangular_inverse_cdf(u, c=0.3):\n",
    "    \"\"\"Inverse CDF of triangular distribution with mode at c\"\"\"\n",
    "    if u < c:\n",
    "        return np.sqrt(2 * c * u)\n",
    "    else:\n",
    "        return 1 - np.sqrt(2 * (1 - c) * (1 - u))\n",
    "\n",
    "\n",
    "# Generate triangular distribution samples\n",
    "triangular_samples = np.array([triangular_inverse_cdf(u, 0.3) for u in uniform_samples])\n",
    "\n",
    "# Example 3: Normal Distribution\n",
    "# -----------------------------------------\n",
    "# The normal distribution's CDF has no closed-form inverse\n",
    "# But scipy provides this function\n",
    "\n",
    "# Generate normal distribution samples using inverse CDF\n",
    "normal_samples = stats.norm.ppf(uniform_samples, loc=0, scale=1)\n",
    "\n",
    "# Plot the distributions\n",
    "fig, axes = plt.subplots(3, 2, figsize=(15, 12))\n",
    "\n",
    "# First row: uniform distributions (our U)\n",
    "axes[0, 0].hist(uniform_samples, bins=30, alpha=0.7, color=\"blue\")\n",
    "axes[0, 0].set_title(\"Uniform Distribution [0,1]\")\n",
    "axes[0, 0].set_xlabel(\"Value\")\n",
    "axes[0, 0].set_ylabel(\"Frequency\")\n",
    "\n",
    "# Plot uniform CDF\n",
    "sorted_uniform = np.sort(uniform_samples)\n",
    "axes[0, 1].plot(sorted_uniform, np.linspace(0, 1, len(sorted_uniform)))\n",
    "axes[0, 1].set_title(\"Uniform CDF\")\n",
    "axes[0, 1].set_xlabel(\"Value\")\n",
    "axes[0, 1].set_ylabel(\"Probability\")\n",
    "\n",
    "# Second row: exponential distributions (our Y = F^(-1)(U))\n",
    "axes[1, 0].hist(exponential_samples, bins=30, alpha=0.7, color=\"green\")\n",
    "axes[1, 0].set_title(f\"Exponential Distribution (λ={lambda_param})\")\n",
    "axes[1, 0].set_xlabel(\"Value\")\n",
    "axes[1, 0].set_ylabel(\"Frequency\")\n",
    "\n",
    "# Plot exponential CDF\n",
    "sorted_exp = np.sort(exponential_samples)\n",
    "axes[1, 1].plot(sorted_exp, np.linspace(0, 1, len(sorted_exp)))\n",
    "axes[1, 1].set_title(\"Exponential CDF\")\n",
    "axes[1, 1].set_xlabel(\"Value\")\n",
    "axes[1, 1].set_ylabel(\"Probability\")\n",
    "\n",
    "# Third row: triangular distributions\n",
    "axes[2, 0].hist(triangular_samples, bins=30, alpha=0.7, color=\"red\")\n",
    "axes[2, 0].set_title(\"Triangular Distribution (mode=0.3)\")\n",
    "axes[2, 0].set_xlabel(\"Value\")\n",
    "axes[2, 0].set_ylabel(\"Frequency\")\n",
    "\n",
    "# Plot triangular CDF\n",
    "sorted_tri = np.sort(triangular_samples)\n",
    "axes[2, 1].plot(sorted_tri, np.linspace(0, 1, len(sorted_tri)))\n",
    "axes[2, 1].set_title(\"Triangular CDF\")\n",
    "axes[2, 1].set_xlabel(\"Value\")\n",
    "axes[2, 1].set_ylabel(\"Probability\")\n",
    "\n",
    "plt.tight_layout()\n",
    "plt.show()\n",
    "\n",
    "# Validation: compare our generated samples with direct methods\n",
    "print(\"Validation - comparing means:\")\n",
    "print(\n",
    "    f\"Exponential: Our method: {np.mean(exponential_samples):.4f}, Expected: {1 / lambda_param:.4f}\"\n",
    ")\n",
    "print(\n",
    "    f\"Triangular: Our method: {np.mean(triangular_samples):.4f}, Expected: {(0 + 1 + 0.3) / 3:.4f}\"\n",
    ")\n",
    "print(f\"Normal: Our method: {np.mean(normal_samples):.4f}, Expected: 0.0000\")"
   ]
  },
  {
   "cell_type": "code",
   "execution_count": null,
   "metadata": {},
   "outputs": [],
   "source": []
  }
 ],
 "metadata": {
  "kernelspec": {
   "display_name": ".venv",
   "language": "python",
   "name": "python3"
  },
  "language_info": {
   "codemirror_mode": {
    "name": "ipython",
    "version": 3
   },
   "file_extension": ".py",
   "mimetype": "text/x-python",
   "name": "python",
   "nbconvert_exporter": "python",
   "pygments_lexer": "ipython3",
   "version": "3.13.2"
  }
 },
 "nbformat": 4,
 "nbformat_minor": 2
}
