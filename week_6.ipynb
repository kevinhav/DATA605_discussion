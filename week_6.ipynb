{
 "cells": [
  {
   "cell_type": "markdown",
   "metadata": {},
   "source": [
    "## Chapter 3"
   ]
  },
  {
   "cell_type": "markdown",
   "metadata": {},
   "source": [
    "### Exercises"
   ]
  },
  {
   "cell_type": "markdown",
   "metadata": {},
   "source": [
    "Exercise 22\n",
    "\n",
    "This exercise is mostly asking about sampling distributions and how they relate to the normal distribution. Since we are repeating a sample (the serial numbers of the counterfeits watches) from a population (the total number of watches), we will find that our samples are normally distributed. The Maximum Likelihood for a normal distribution is also the mean, so when we are repeatedly taking the max serial number of the observed counterfeit watches, that max will be close to the mean of the normal sampling distribution and therefore the best guess."
   ]
  },
  {
   "cell_type": "code",
   "execution_count": null,
   "metadata": {},
   "outputs": [
    {
     "name": "stdout",
     "output_type": "stream",
     "text": [
      "Watson MSE: 12.320099999999986\n",
      "Holmes MSE: 2598.9604000000004\n"
     ]
    }
   ],
   "source": [
    "import random\n",
    "\n",
    "\n",
    "def watson_vs_holmes(n=16, N=58, trials=1000):\n",
    "    # Create a list of watches\n",
    "    watches = [x for x in range(N)]\n",
    "\n",
    "    results = {\"watson\": [], \"holmes\": []}\n",
    "\n",
    "    for trial in range(trials):\n",
    "        # Randomly select counterfeits\n",
    "        counterfeits = random.sample(watches, n)\n",
    "\n",
    "        # Select the max serial number of the counterfeits\n",
    "        m = max(counterfeits)\n",
    "\n",
    "        # Track each detective's strategy\n",
    "        results[\"watson\"].append(m)\n",
    "        results[\"holmes\"].append(2 * m)\n",
    "\n",
    "    # Calculate MSE\n",
    "    watson_mse = (N - (sum(results[\"watson\"]) / trials)) ** 2\n",
    "    holmes_mse = (N - (sum(results[\"holmes\"]) / trials)) ** 2\n",
    "\n",
    "    print(f\"Watson MSE: {watson_mse}\")\n",
    "    print(f\"Holmes MSE: {holmes_mse}\")\n",
    "\n",
    "\n",
    "watson_vs_holmes()\n"
   ]
  }
 ],
 "metadata": {
  "kernelspec": {
   "display_name": ".venv",
   "language": "python",
   "name": "python3"
  },
  "language_info": {
   "codemirror_mode": {
    "name": "ipython",
    "version": 3
   },
   "file_extension": ".py",
   "mimetype": "text/x-python",
   "name": "python",
   "nbconvert_exporter": "python",
   "pygments_lexer": "ipython3",
   "version": "3.13.2"
  }
 },
 "nbformat": 4,
 "nbformat_minor": 2
}
